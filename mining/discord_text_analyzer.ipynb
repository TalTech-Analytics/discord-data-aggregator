{
 "cells": [
  {
   "cell_type": "markdown",
   "metadata": {
    "scrolled": true
   },
   "source": [
    "conda install -c estnltk -c conda-forge estnltk=1.6.7b"
   ]
  },
  {
   "cell_type": "markdown",
   "metadata": {},
   "source": [
    "#### Abstract Runner\n",
    "Abstract Runner which uses configuration to process data and caches answers "
   ]
  },
  {
   "cell_type": "code",
   "execution_count": 1,
   "metadata": {},
   "outputs": [],
   "source": [
    "from os import listdir\n",
    "from os.path import isfile, join\n",
    "import json\n",
    "\n",
    "data_dir = \"data/discord\"\n",
    "\n",
    "class CachedRunner:\n",
    "    def __init__(self, configuration):\n",
    "        \"\"\"\n",
    "        directory: all files in given folder and subfolder will be used.\n",
    "        \"\"\"\n",
    "        self.conf = configuration\n",
    "        self.name = self.conf.name\n",
    "        self.get_empty = self.conf.get_empty\n",
    "        self.serialize = self.conf.serialize\n",
    "        self.deserialize = self.conf.deserialize\n",
    "        self.apply = self.conf.apply\n",
    "        self.set_position = self.conf.set_position\n",
    "\n",
    "        \n",
    "    def invoke(self, directory):\n",
    "        \"\"\"\n",
    "        Update cache or create one with given and return the results.\n",
    "\n",
    "        preconditions: \n",
    "        term count of apply must be 2: (given_structure, discord_message)\n",
    "        term count of serializer must be 1\n",
    "        term count of deserializer must be 1\n",
    "\n",
    "        next functions must make inplace mutations:\n",
    "        serializer, deserializer, function_to_apply\n",
    "\n",
    "        postcondition:\n",
    "        a list of filled versions of default_structures are returned\n",
    "        \"\"\"\n",
    "        all_processed_data = []\n",
    "\n",
    "        for f in listdir(directory):\n",
    "            cache_file_prefix = self.name + \"_cache_\"\n",
    "            \n",
    "            if \"_cache_\" in f:\n",
    "                continue\n",
    "\n",
    "            cache_location = join(directory, cache_file_prefix + f)\n",
    "            cur_path = join(directory, f)\n",
    "            self.set_position(cur_path)\n",
    "\n",
    "            if not isfile(cur_path):\n",
    "                all_processed_data += self.invoke(cur_path)\n",
    "\n",
    "            else:\n",
    "                # Create empty cache if needed\n",
    "                if not isfile(cache_location): \n",
    "                    cache = open(cache_location, \"w\")\n",
    "                    json.dump(self.serialize(self.get_empty()), cache)\n",
    "                    cache.close()\n",
    "\n",
    "                # Read current version\n",
    "                cache = open(cache_location, \"r\")\n",
    "                cur_layer = self.deserialize(json.load(cache))\n",
    "                cache.close()\n",
    "\n",
    "                # Update cache\n",
    "                discord_data = open(cur_path, \"r\")\n",
    "                raw_json = json.load(discord_data)\n",
    "\n",
    "                for message in raw_json[\"messages\"]:\n",
    "                    self.apply(cur_layer, message)\n",
    "\n",
    "                discord_data.close()\n",
    "                    \n",
    "                # Save updated version\n",
    "                cache = open(cache_location, \"w\")\n",
    "                json.dump(self.serialize(cur_layer), cache)\n",
    "                cache.close()\n",
    "                \n",
    "                all_processed_data.append(cur_layer)\n",
    "    \n",
    "        return all_processed_data"
   ]
  },
  {
   "cell_type": "markdown",
   "metadata": {},
   "source": [
    "#### Configuration\n",
    "Configuration template to be used in the Abstract Runner"
   ]
  },
  {
   "cell_type": "code",
   "execution_count": 2,
   "metadata": {},
   "outputs": [],
   "source": [
    "from abc import ABC, ABCMeta, abstractmethod, abstractproperty\n",
    "\n",
    "class Configuration():\n",
    "    __metaclass__ = ABCMeta\n",
    "    \n",
    "    def __init__(self):\n",
    "        self.pos = \"unknown\"\n",
    "    \n",
    "    @abstractproperty \n",
    "    def name(self): \n",
    "        return \"generic\"\n",
    "    \n",
    "    def get_empty(self): \n",
    "        return {\n",
    "            \"position\": self.pos,\n",
    "        }\n",
    "    \n",
    "    def get_position(self):\n",
    "        return self.pos\n",
    "    \n",
    "    def set_position(self, pos):\n",
    "        self.pos = pos\n",
    "    \n",
    "    @abstractmethod \n",
    "    def apply(self, layer, message): \n",
    "        return {}\n",
    "    \n",
    "    @abstractmethod \n",
    "    def serialize(self, layer):\n",
    "        return layer\n",
    "\n",
    "    @abstractmethod \n",
    "    def deserialize(self, layer): \n",
    "        return layer\n"
   ]
  },
  {
   "cell_type": "markdown",
   "metadata": {},
   "source": [
    "#### Count configuration\n",
    "Configuration implementation which counts the repetitions of neighbouring words"
   ]
  },
  {
   "cell_type": "code",
   "execution_count": 3,
   "metadata": {},
   "outputs": [],
   "source": [
    "from estnltk import Text\n",
    "from datetime import datetime\n",
    "from collections import Counter\n",
    "from collections import deque\n",
    "import html\n",
    "import re\n",
    "\n",
    "class CountConfiguration(Configuration):\n",
    "    \n",
    "    @property\n",
    "    def name(self):\n",
    "        return \"count\"\n",
    "    \n",
    "    \n",
    "    def get_empty(self):\n",
    "        return {\n",
    "            \"position\": self.get_position(),\n",
    "            \"last_timestamp\": 0,\n",
    "            \"counter_1\": Counter(),\n",
    "            \"counter_2\": Counter(),\n",
    "            \"counter_3\": Counter(),\n",
    "            \"counter_4\": Counter()\n",
    "        }\n",
    "    \n",
    "    \n",
    "    def apply(self, layer, message): \n",
    "        timestamp = re.sub(r\"(\\.\\d+)?[\\+\\-]\\d+:\\d+\", \"\", message[\"timestamp\"])\n",
    "        new_time = datetime.strptime(''.join(timestamp), '%Y-%m-%dT%H:%M:%S').timestamp()\n",
    "        if new_time > layer[\"last_timestamp\"]:\n",
    "            layer[\"last_timestamp\"] = new_time\n",
    "\n",
    "            parsed_text = Text(html.unescape(message[\"content\"])).tag_layer([\"words\"])\n",
    "\n",
    "            deques = [\n",
    "                (\"counter_1\", deque(maxlen=1)),\n",
    "                (\"counter_2\", deque(maxlen=2)),\n",
    "                (\"counter_3\", deque(maxlen=3)),\n",
    "                (\"counter_4\", deque(maxlen=4))\n",
    "            ]\n",
    "\n",
    "            for word in parsed_text.words:\n",
    "                for key, q in deques:\n",
    "                    q.extend([word.text])\n",
    "                    if q.maxlen == len(q):\n",
    "                        layer[key][\" \".join(q)] += 1\n",
    "    \n",
    "    \n",
    "    def serialize(self, layer):\n",
    "        for i in range(1, 5):\n",
    "            layer[f\"counter_{i}\"] = dict(layer[f\"counter_{i}\"])\n",
    "        return layer\n",
    "\n",
    "    \n",
    "    def deserialize(self, layer): \n",
    "        for i in range(1, 5):\n",
    "            layer[f\"counter_{i}\"] = Counter(layer[f\"counter_{i}\"])\n",
    "        return layer"
   ]
  },
  {
   "cell_type": "code",
   "execution_count": 4,
   "metadata": {
    "scrolled": false
   },
   "outputs": [
    {
     "data": {
      "text/plain": [
       "[('data\\\\2020\\\\general\\\\Python 2020 - Text Channels - general.json',\n",
       "  1601387696.0)]"
      ]
     },
     "execution_count": 4,
     "metadata": {},
     "output_type": "execute_result"
    }
   ],
   "source": [
    "count_runner = CachedRunner(CountConfiguration()).invoke(data_dir)\n",
    "\n",
    "[(x['position'], x[\"last_timestamp\"]) for x in count_runner]"
   ]
  }
 ],
 "metadata": {
  "kernelspec": {
   "display_name": "Python 3",
   "language": "python",
   "name": "python3"
  },
  "language_info": {
   "codemirror_mode": {
    "name": "ipython",
    "version": 3
   },
   "file_extension": ".py",
   "mimetype": "text/x-python",
   "name": "python",
   "nbconvert_exporter": "python",
   "pygments_lexer": "ipython3",
   "version": "3.7.4"
  }
 },
 "nbformat": 4,
 "nbformat_minor": 2
}
